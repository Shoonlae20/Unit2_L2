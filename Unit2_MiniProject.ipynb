{
  "nbformat": 4,
  "nbformat_minor": 0,
  "metadata": {
    "colab": {
      "name": "Unit2_MiniProject.ipynb",
      "provenance": []
    },
    "kernelspec": {
      "name": "python3",
      "display_name": "Python 3"
    }
  },
  "cells": [
    {
      "cell_type": "code",
      "metadata": {
        "id": "DyQtbzXJMLW1",
        "colab": {
          "base_uri": "https://localhost:8080/"
        },
        "outputId": "80bcbd77-c0aa-4c4d-d32a-c1a613ed8682"
      },
      "source": [
        "In [24]: #input the number\n",
        "number = int(input(\"Please give me a number : \"))\n",
        "if (number% 2 == 0 ) :\n",
        "  print(\"The number you input is even.\")\n",
        "# to see if the number is even\n",
        "if (number% 4 == 0 ) :\n",
        "# to see if the number is a multiple of 4\n",
        "  print(\"The number is a multiple of 4.\")\n",
        "# if the number is not a multiple of 4, the following message will print\n",
        "else:\n",
        "  print(\"The number you input is odd.\")"
      ],
      "execution_count": 5,
      "outputs": [
        {
          "output_type": "stream",
          "text": [
            "Please give me a number : 40\n",
            "The number you input is even.\n",
            "The number is a multiple of 4.\n"
          ],
          "name": "stdout"
        }
      ]
    },
    {
      "cell_type": "code",
      "metadata": {
        "colab": {
          "base_uri": "https://localhost:8080/"
        },
        "id": "QzlmqaONorN9",
        "outputId": "d4ae7a64-c627-4eb0-ed39-a1d8d088a59f"
      },
      "source": [
        "#input 2 numbers\n",
        "num = int(input(\"Please give me a number : \"))\n",
        "check = int(input(\"Please give me a second number : \"))\n",
        "if num % check  == 0 :\n",
        "  print(str(num) + \" can be divided evenly by \" + str(check) + \".\")\n",
        "else:\n",
        "  print(str(num) + \" can not be divided evenly by \" + str(check) + \".\")"
      ],
      "execution_count": 10,
      "outputs": [
        {
          "output_type": "stream",
          "text": [
            "Please give me a number : 901867\n",
            "Please give me a second number : 2136\n",
            "901867 can not be divided evenly by 2136.\n"
          ],
          "name": "stdout"
        }
      ]
    }
  ]
}